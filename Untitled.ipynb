{
 "cells": [
  {
   "cell_type": "code",
   "execution_count": null,
   "id": "0aa89cdd-98b7-4e0c-b9e5-061b2685768b",
   "metadata": {},
   "outputs": [],
   "source": [
    "import sqlite3\n",
    "conn = sqlite3.connect('quiz.sqlite')\n",
    "c = conn.cursor()\n",
    "import matplotlib.pyplot as plt\n",
    "import pandas as pd\n",
    "\n",
    "query = \"\"\"\n",
    "    SELECT \"Player Name\", Position\n",
    "    FROM \"quiz\"\n",
    "    WHERE Position = 'GKP'\n",
    "    ORDER BY Player Name ASC\n",
    "\"\"\"\n",
    "c.execute(query)\n",
    "\n",
    "rows = c.fetchall()\n",
    "for row in rows:\n",
    "    print(\"ფეხბურთელი:\", row[0], \"| პოზიცია:\", row[1])\n",
    "\n"
   ]
  },
  {
   "cell_type": "code",
   "execution_count": null,
   "id": "7d67acbf-7b8c-4e41-be33-9142a61c6d9e",
   "metadata": {},
   "outputs": [],
   "source": [
    "# ფეხბურთელები, რომლებსაც 1000 წუთზე მეტი უთამაშიათ\n",
    "\n",
    "query1 = \"\"\"\n",
    "SELECT \"Player Name\", Position, Minutes\n",
    "FROM \"quiz\"\n",
    "WHERE Minutes >= 1000\n",
    "ORDER BY Player Name ASC\n",
    "\n",
    "\n",
    "\"\"\"\n",
    "\n",
    "c.execute(query1)\n",
    "\n",
    "row1 = c.fetchall()\n",
    "for row in row1:\n",
    "    print(\"ფეხბურთელი:\", row[0], \"| პოზიცია:\", row[1], \"წუთები ნათამაშები:\", row[2])"
   ]
  },
  {
   "cell_type": "code",
   "execution_count": null,
   "id": "beb6088b-4b7a-4cf4-97d3-05a0bc6eaade",
   "metadata": {},
   "outputs": [],
   "source": [
    "# ფეხბურთელები, რომლებიც ესპანელები არიან\n",
    "\n",
    "query2 = \"\"\"\n",
    "SELECT \"Player Name\", Nationality\n",
    "FROM \"quiz\"\n",
    "WHERE Nationality = \"Spain\"\n",
    "Order BY Player Name ASC\n",
    "\"\"\"\n",
    "c.execute(query2)\n",
    "\n",
    "row2 = c.fetchall()\n",
    "\n",
    "for row in row2:\n",
    "    print(\"ფეხბურთელი:\", row[0], \"ეროვნება:\", row[1])"
   ]
  },
  {
   "cell_type": "code",
   "execution_count": null,
   "id": "1a3d0cd3-9ef3-4289-93e4-c22b7d40dac6",
   "metadata": {},
   "outputs": [],
   "source": [
    "# მომხმარებლისგან მონაცემების მიღება\n",
    "Player = input(\"შეიყვანეთ ფეხბურთელის სახელი: \")\n",
    "Club = input(\"შეიყვანეთ კლუბი: \")\n",
    "positionn = input(\"შეიყვანეთ პოზიცია: \")\n",
    "\n",
    "# # ვამატებთ ახალ ჩანაწერს ცხრილში\n",
    "insert_query = \"\"\"\n",
    "    INSERT INTO \"quiz\" (\"Player Name\", Club, Position)\n",
    "    VALUES (?, ?, ?)\n",
    "\"\"\"\n",
    "c.execute(insert_query, (\"Player Name\", Club, Position))\n",
    "conn.commit()  # რომ აისახოს ბაზაში ცვლილებები"
   ]
  },
  {
   "cell_type": "code",
   "execution_count": null,
   "id": "8849cd94-369e-4a69-9483-942bd6c33dbb",
   "metadata": {},
   "outputs": [],
   "source": [
    "# მომხმარებლისგან ვიღებთ ინფორმაციას განახლებისთვის\n",
    "Player = input(\"შეიყვანეთ ფეხბურთელის სახელი, რომლის ჩანაწერის განახლება გსურთ: \")\n",
    "Club = input(\"შეიყვანეთ ახალი კლუბის სახელი:\")\n",
    "positionn = input(\"შეიყვანეთ ახალი პოზიცია:\")\n",
    "update_query = \"\"\"\n",
    "    UPDATE \"quiz\"\n",
    "    SET  \"Club\" = ?, \"Position\" = ?\n",
    "    WHERE Player= ?\n",
    "\"\"\"\n",
    "# ბრძანების შესრულება მომხმარებლის მიერ შეყვანილი მონაცემებით\n",
    "c.execute(update_query, (new_Player, new_club, new_positionn))\n",
    "conn.commit()"
   ]
  },
  {
   "cell_type": "code",
   "execution_count": null,
   "id": "a6018970-842b-4e0b-82ac-7e726a9edba4",
   "metadata": {},
   "outputs": [],
   "source": [
    "#მომხმარებლისგან ვიღებთ ფეხბურთელს, რომლის ჩანაწერი წაიშლება.\n",
    "player_to_delete = input(\"შეიყვანეთ ფეხბურთელის სახელი, რომლის ჩანაწერის წაშლა გსურთ: \")\n",
    "#ფეხბურთელის სახელის მიხედვით ცხრილიდან იშლება ფეხბურთელი.\n",
    "delete_query = \"\"\"\n",
    "    DELETE FROM \"quiz\"\n",
    "    WHERE Player = ?\n",
    "\"\"\"\n",
    "\n",
    "c.execute(delete_query, (player_to_delete,))\n",
    "conn.commit()"
   ]
  },
  {
   "cell_type": "code",
   "execution_count": null,
   "id": "413588d7-2e2a-413f-8a3f-23b0ab1c2b1e",
   "metadata": {},
   "outputs": [],
   "source": [
    "# ავირჩიოთ  5 ფეხბურთელი ყველაზე მეტი წითელი ბარათით\n",
    "query_redcards = \"\"\"\n",
    "    SELECT Player, \"Red Cards\"\n",
    "    FROM \"quiz\"\n",
    "    WHERE \"Red Cards\" IS NOT NULL\n",
    "    ORDER BY \"Red Cards\" DESC\n",
    "    LIMIT 5\n",
    "\"\"\"\n",
    "df = pd.read_sql_query(query_migrants, conn)#პანდასით დატაფრეიმად გარდაქმნა.\n",
    "#სვეტური დიაგრამის აგება\n",
    "plt.figure(figsize=(10, 6))\n",
    "plt.bar(df['Country'], df['Migrants (net)'], color='orange')\n",
    "plt.title('5 ქვეყანა ყველაზე მეტი მიგრანტით')\n",
    "plt.xlabel('ქვეყანა')\n",
    "plt.ylabel('მიგრანტების რაოდენობა')\n",
    "plt.grid(True)\n",
    "plt.show()"
   ]
  }
 ],
 "metadata": {
  "kernelspec": {
   "display_name": "Python 3 (ipykernel)",
   "language": "python",
   "name": "python3"
  },
  "language_info": {
   "codemirror_mode": {
    "name": "ipython",
    "version": 3
   },
   "file_extension": ".py",
   "mimetype": "text/x-python",
   "name": "python",
   "nbconvert_exporter": "python",
   "pygments_lexer": "ipython3",
   "version": "3.12.10"
  }
 },
 "nbformat": 4,
 "nbformat_minor": 5
}
